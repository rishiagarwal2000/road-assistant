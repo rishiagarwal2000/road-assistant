{
 "cells": [
  {
   "cell_type": "code",
   "execution_count": 8,
   "metadata": {},
   "outputs": [],
   "source": [
    "import requests\n",
    "from typing import Optional, List, Dict, Any\n",
    "from dotenv import load_dotenv\n",
    "import os\n",
    "\n",
    "import together\n",
    "import openai\n",
    "import json\n",
    "\n",
    "load_dotenv()\n",
    "google_api_key = os.getenv('google_api_key')"
   ]
  },
  {
   "cell_type": "code",
   "execution_count": 5,
   "metadata": {},
   "outputs": [],
   "source": [
    "def get_all_nearby_places(lat: float = 37.7937, long: float = -122.3965, fields: Optional[List[str]] = None) -> requests.Response:\n",
    "    if fields is None:\n",
    "        fields = [\"displayName\", \"editorialSummary\"]\n",
    "    \n",
    "    fields = [\"places.\" + field for field in fields]\n",
    "\n",
    "    url = \"https://places.googleapis.com/v1/places:searchNearby\"\n",
    "    query = {\n",
    "            \"includedTypes\": [\"restaurant\"],\n",
    "            \"maxResultCount\": 10,\n",
    "            \"locationRestriction\": {\n",
    "                \"circle\": {\n",
    "                \"center\": {\n",
    "                    \"latitude\": lat,\n",
    "                    \"longitude\": long},\n",
    "                \"radius\": 500.0\n",
    "                }\n",
    "            }\n",
    "        }\n",
    "    headers = {\n",
    "        \"Content-Type\": \"application/json\",\n",
    "        \"X-Goog-Api-Key\": google_api_key,\n",
    "        \"X-Goog-FieldMask\": \",\".join(fields)\n",
    "    }\n",
    "    response = requests.post(url, data=json.dumps(query), headers=headers)\n",
    "\n",
    "    return response"
   ]
  },
  {
   "cell_type": "code",
   "execution_count": 6,
   "metadata": {},
   "outputs": [],
   "source": [
    "response = get_nearby_places()"
   ]
  },
  {
   "cell_type": "code",
   "execution_count": 10,
   "metadata": {},
   "outputs": [
    {
     "name": "stdout",
     "output_type": "stream",
     "text": [
      "{'places': [{'displayName': {'text': 'La Mar Cocina Peruana', 'languageCode': 'en'}, 'editorialSummary': {'text': 'Celeb chef Gastón Acurio serves Peruvian seafood in a large, partially outdoor space on the pier.', 'languageCode': 'en'}}, {'displayName': {'text': 'Kokkari Estiatorio', 'languageCode': 'en'}, 'editorialSummary': {'text': 'Taverna-inspired cuisine served in a candlelit, wood-beamed dining room that attracts a chic crowd.', 'languageCode': 'en'}}, {'displayName': {'text': 'Harborview Restaurant & Bar', 'languageCode': 'en'}, 'editorialSummary': {'text': 'Contemporary, family-style outlet serving Cantonese-style dishes with panoramic harbor views.', 'languageCode': 'en'}}, {'displayName': {'text': 'Hog Island Oyster Co.', 'languageCode': 'en'}, 'editorialSummary': {'text': 'Contemporary waterside seafood eatery serving local oysters & clams, plus craft cocktails.', 'languageCode': 'en'}}, {'displayName': {'text': 'Barcha Restaurant', 'languageCode': 'en'}, 'editorialSummary': {'text': 'Modern spot for Mediterranean eats in an arty, upbeat atmosphere, plus happy hour & patio seating.', 'languageCode': 'en'}}, {'displayName': {'text': 'Tadich Grill', 'languageCode': 'en'}, 'editorialSummary': {'text': 'Institution for fresh fish & classic cocktails with an old-school setting & a buzzy atmosphere.', 'languageCode': 'en'}}, {'displayName': {'text': 'STK San Francisco', 'languageCode': 'en'}}, {'displayName': {'text': 'Yank Sing (Stevenson St.)', 'languageCode': 'en'}, 'editorialSummary': {'text': 'Classic dim sum served from carts is the main draw at this bustling Chinese standby.', 'languageCode': 'en'}}, {'displayName': {'text': 'Yank Sing (Spear St.)', 'languageCode': 'en'}, 'editorialSummary': {'text': 'Chinese restaurant in the Rincon Center presenting dim sum in a warm, well appointed dining room.', 'languageCode': 'en'}}, {'displayName': {'text': 'International Smoke San Francisco', 'languageCode': 'en'}, 'editorialSummary': {'text': 'Michael Mina & Ayesha Curry are behind this globally minded outpost for grilled meats & cocktails.', 'languageCode': 'en'}}]}\n"
     ]
    }
   ],
   "source": [
    "json_res = response.json()\n",
    "\n",
    "print(json_res)"
   ]
  },
  {
   "cell_type": "code",
   "execution_count": null,
   "metadata": {},
   "outputs": [],
   "source": [
    "def is_relevant_field(field: str = \"servesVegetarianFood\", pref: str = \"Looking for vegetarian food, Asian cuisine\") -> bool:\n",
    "    pass\n",
    "\n",
    "def is_relevant_place(place_dict: Dict[str, Any], pref: str = \"Looking for vegetarian food, Asian cuisine\") -> bool:\n",
    "    pass\n",
    "\n",
    "def get_relevant_nearby_places(lat: float = 37.7937, long: float = -122.3965, pref: str = \"Looking for a vegan restaurant that is student budget friendly.\") -> Optional[List[Dict[str, Any]]]:\n",
    "    # construct fields for the query\n",
    "    required_fields = [\"displayName\", \"editorialSummary\"]\n",
    "    base_fields = [\"accessibilityOptions\", \"addressComponents\", \"adrFormatAddress\", \"businessStatus\", \"formattedAddress\", \"googleMapsUri\", \"iconBackgroundColor\", \"iconMaskBaseUri\", \"id\", \"location\", \"name*\", \"photos\", \"plusCode\", \"primaryType\", \"primaryTypeDisplayName\", \"shortFormattedAddress\", \"subDestinations\", \"types\", \"utcOffsetMinutes\", \"viewport\"]\n",
    "    adv_fields = [\"currentOpeningHours\", \"currentSecondaryOpeningHours\", \"internationalPhoneNumber\", \"nationalPhoneNumber\", \"priceLevel\", \"rating\", \"regularOpeningHours\", \"regularSecondaryOpeningHours\", \"userRatingCount\", \"websiteUri\"]\n",
    "    pref_fields = [\"allowsDogs\", \"curbsidePickup\", \"delivery\", \"dineIn\", \"evChargeOptions*\", \"fuelOptions*\", \"goodForChildren\", \"goodForGroups\", \"goodForWatchingSports\", \"liveMusic\", \"menuForChildren\", \"parkingOptions*\", \"paymentOptions\", \"outdoorSeating\", \"reservable\", \"restroom\", \"reviews\", \"servesBeer\", \"servesBreakfast\", \"servesBrunch\", \"servesCocktails\", \"servesCoffee\", \"servesDesserts\", \"servesDinner\", \"servesLunch\", \"servesVegetarianFood\", \"servesWine\", \"takeout\"]\n",
    "    all_optional_fields = base_fields + adv_fields + pref_fields\n",
    "    \n",
    "    filtered_fields = required_fields + [field for field in all_optional_fields if is_relevant_field(field, pref)]\n",
    "\n",
    "    # perform query to find all nearby places with the above fields\n",
    "    all_nearby_places = get_all_nearby_places(lat=lat, long=long, fields=filtered_fields)\n",
    "    if all_nearby_places.status_code == 200:\n",
    "        # Parse the response to JSON\n",
    "        places_dict = all_nearby_places.json()\n",
    "    else:\n",
    "        print(\"Error:\", all_nearby_places.status_code, all_nearby_places.reason)\n",
    "        return\n",
    "    # use the above reponse descriptions and user pref. to filter relevant places\n",
    "    filtered_places = []\n",
    "    for place_dict in places_dict[\"places\"]:\n",
    "        if is_relevant_place(place_dict, pref):\n",
    "            filtered_places.append(place_dict)\n",
    "    # return the relevant places along with their fields\n",
    "    return filtered_places\n"
   ]
  }
 ],
 "metadata": {
  "kernelspec": {
   "display_name": "road",
   "language": "python",
   "name": "python3"
  },
  "language_info": {
   "codemirror_mode": {
    "name": "ipython",
    "version": 3
   },
   "file_extension": ".py",
   "mimetype": "text/x-python",
   "name": "python",
   "nbconvert_exporter": "python",
   "pygments_lexer": "ipython3",
   "version": "3.12.0"
  }
 },
 "nbformat": 4,
 "nbformat_minor": 2
}
